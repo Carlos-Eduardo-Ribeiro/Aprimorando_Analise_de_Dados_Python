{
 "cells": [
  {
   "cell_type": "code",
   "execution_count": 1,
   "id": "a5c22865",
   "metadata": {},
   "outputs": [],
   "source": [
    "from ast import Lambda\n",
    "from math import sqrt\n",
    "import statistics\n",
    "import pandas as pd"
   ]
  },
  {
   "cell_type": "code",
   "execution_count": 2,
   "id": "3ec92f5d",
   "metadata": {},
   "outputs": [],
   "source": [
    "#Convertedo obj(s) Map e Filter em lista para print\n",
    "def conversao (l):\n",
    "  print(list(l))"
   ]
  },
  {
   "cell_type": "code",
   "execution_count": 3,
   "id": "db887db5",
   "metadata": {},
   "outputs": [
    {
     "name": "stdout",
     "output_type": "stream",
     "text": [
      "[0, 8, 10]\n"
     ]
    }
   ],
   "source": [
    "#Exercícios1: Dada a lista [-3, -2, 0, 4, 5, -1], use filter() e map() para: filtrar apenas os números positivos e depois dobrar o valor de cada um.\n",
    " \n",
    "lista = [-3, -2, 0, 4, 5, -1]\n",
    " \n",
    "resul = map(lambda x: x*2, filter(lambda x: x>=0, lista))\n",
    "print(list(resul))"
   ]
  },
  {
   "cell_type": "code",
   "execution_count": 4,
   "id": "07977ac4",
   "metadata": {},
   "outputs": [
    {
     "name": "stdout",
     "output_type": "stream",
     "text": [
      "['João', 'Beatriz', 'Marcos']\n"
     ]
    }
   ],
   "source": [
    "#Exercícios2: Dada a lista [\"Ana\", \"João\", \"Beatriz\", \"Lu\", \"Marcos\"], use filter() com lambda para retornar apenas os nomes com 4 ou menos letras.\n",
    " \n",
    "listaNomes = [\"Ana\", \"João\", \"Beatriz\", \"Lu\", \"Marcos\"]\n",
    " \n",
    "nomesMaisTresLetras = filter(lambda x: len(x)>=4, listaNomes)\n",
    "print(list(nomesMaisTresLetras))"
   ]
  },
  {
   "cell_type": "code",
   "execution_count": 5,
   "id": "89bcd43a",
   "metadata": {},
   "outputs": [
    {
     "name": "stdout",
     "output_type": "stream",
     "text": [
      "[32.0, 68.0, 98.6, 212.0]\n"
     ]
    }
   ],
   "source": [
    "#Exercícios3: Dada a lista [0, 20, 37, 100] com temperaturas em Celsius, use map() e lambda para converter para Fahrenheit.\n",
    " \n",
    "listaTempeaturas = [0, 20, 37, 100]\n",
    " \n",
    "toFahrenheit = map(lambda x: x * 9/5 + 32, listaTempeaturas)\n",
    "print(list(toFahrenheit))"
   ]
  },
  {
   "cell_type": "code",
   "execution_count": 6,
   "id": "d7b15e34",
   "metadata": {},
   "outputs": [
    {
     "name": "stdout",
     "output_type": "stream",
     "text": [
      "['lua', 'mar']\n"
     ]
    }
   ],
   "source": [
    "#Exercícios4: Dada a lista [\"sol\", \"lua\", \"mar\", \"vento\", \"nuvem\"], use filter() e lambda para retornar apenas as palavras que contêm a letra \"a\".\n",
    " \n",
    "listaClima =[\"sol\", \"lua\", \"mar\", \"vento\", \"nuvem\"]\n",
    "palvrasA = filter(lambda x : \"a\" in x, listaClima)\n",
    "conversao(palvrasA)"
   ]
  },
  {
   "cell_type": "code",
   "execution_count": 7,
   "id": "8334de25",
   "metadata": {},
   "outputs": [
    {
     "name": "stdout",
     "output_type": "stream",
     "text": [
      "[2.0, 3.0, 4.0, 5.0]\n"
     ]
    }
   ],
   "source": [
    "#Exercícios5 : Dada a lista [4, 5, 9, 10, 16, 25], use map() e filter() para: Calcular a raiz quadrada de cada número, Manter apenas as raízes inteiras (ex: 2, 3, 4, 5).\n",
    " \n",
    "listaValores = [4, 5, 9, 10, 16, 25]\n",
    "raizQ = map(lambda x : sqrt(x) ,filter( lambda x : sqrt(x).is_integer() ,listaValores))\n",
    "conversao(raizQ)"
   ]
  },
  {
   "cell_type": "code",
   "execution_count": 8,
   "id": "5e1eb1ac",
   "metadata": {},
   "outputs": [
    {
     "name": "stdout",
     "output_type": "stream",
     "text": [
      "['ANA', 'CLARA']\n"
     ]
    }
   ],
   "source": [
    "#Exercícios6: Filtrar e transformar dicionários, Use filter() para selecionar apenas os maiores de 18, e map() para retornar uma nova lista com apenas os nomes em maiúsculas.\n",
    " \n",
    "pessoas = [\n",
    "    {\"nome\": \"Ana\", \"idade\": 22},\n",
    "    {\"nome\": \"Bruno\", \"idade\": 17},\n",
    "    {\"nome\": \"Clara\", \"idade\": 19},\n",
    "    {\"nome\": \"Daniel\", \"idade\": 15}\n",
    "]\n",
    " \n",
    "maioresDe18 = map(lambda x: x.get('nome').upper(), filter(lambda x: x.get(\"idade\")>18, pessoas))\n",
    "conversao(maioresDe18)"
   ]
  },
  {
   "cell_type": "code",
   "execution_count": 16,
   "id": "e68b93af",
   "metadata": {},
   "outputs": [
    {
     "name": "stdout",
     "output_type": "stream",
     "text": [
      "['arara', 'banana', 'elefante']\n"
     ]
    }
   ],
   "source": [
    "#Exercícios7: Dada a lista [\"arara\", \"banana\", \"mel\", \"uva\", \"tigre\", \"elefante\"], use filter() e lambda para retornar apenas as palavras que têm duas ou mais vogais iguais.\n",
    " \n",
    "vogal =  [\"arara\", \"banana\", \"mel\", \"uva\", \"tigre\", \"elefante\"]\n",
    "vogais = 'aeiou'\n",
    "\n",
    "valoresVogal =  filter(lambda x : any(x.count(v)>2 for v in vogais) ,vogal)\n",
    "\n",
    "conversao(valoresVogal)"
   ]
  },
  {
   "cell_type": "code",
   "execution_count": 9,
   "id": "cf557241",
   "metadata": {},
   "outputs": [
    {
     "name": "stdout",
     "output_type": "stream",
     "text": [
      "155\n"
     ]
    }
   ],
   "source": [
    "#Exercícios8; Dada a lista [1, 2, 3, 4, 5, 6, 7, 8, 9], use filter() para pegar apenas os números ímpares maiores que 3, depois use map() para elevar ao quadrado, e finalmente sum() para somar todos os resultados.\n",
    " \n",
    "numeros = [1, 2, 3, 4, 5, 6, 7, 8, 9]\n",
    " \n",
    "resultado1 = sum(list(map(lambda x: x**2, filter(lambda x: x if x>3 and x%2!=0 else '',numeros))))\n",
    "print(resultado1)"
   ]
  },
  {
   "cell_type": "code",
   "execution_count": 10,
   "id": "f31f8dc3",
   "metadata": {},
   "outputs": [
    {
     "name": "stdout",
     "output_type": "stream",
     "text": [
      "['python', 'map', 'filter', 'lambda']\n"
     ]
    }
   ],
   "source": [
    "#Exercícios9: Dada a lista [\" Python \", \" MAP\", \" filter \", \"Lambda \"], use map() e lambda para: remover espaços extras, colocar todas as letras em minúsculas.\n",
    " \n",
    "listaNormalizada = [\" Python \", \" MAP\", \" filter \", \"Lambda \"]\n",
    " \n",
    "resulListaNormalizada = map(lambda x: x.lower(),map(lambda x: x.strip(), listaNormalizada))\n",
    "conversao(resulListaNormalizada)"
   ]
  },
  {
   "cell_type": "code",
   "execution_count": 11,
   "id": "be74214f",
   "metadata": {},
   "outputs": [
    {
     "name": "stdout",
     "output_type": "stream",
     "text": [
      "['Monitor']\n"
     ]
    }
   ],
   "source": [
    "#Exercícios10: Filtrar produtos acima da média,Dada:\n",
    " \n",
    "produtos = [\n",
    "    {\"nome\": \"Teclado\", \"preco\": 100},\n",
    "    {\"nome\": \"Mouse\", \"preco\": 80},\n",
    "    {\"nome\": \"Monitor\", \"preco\": 800},\n",
    "    {\"nome\": \"Cabo HDMI\", \"preco\": 50}\n",
    "]\n",
    " \n",
    "#Use map() e filter() para: Calcular o preço médio, Filtrar apenas os produtos com preço acima da média, Retornar apenas os nomes desses produtos.\n",
    " \n",
    "nomesProdutos = map(lambda x: x.get('nome'), filter(lambda x: x.get('preco')> statistics.mean(map(lambda x: x.get('preco'), produtos)),produtos))\n",
    "conversao(nomesProdutos)"
   ]
  },
  {
   "cell_type": "code",
   "execution_count": null,
   "id": "d35b6792",
   "metadata": {},
   "outputs": [],
   "source": []
  }
 ],
 "metadata": {
  "kernelspec": {
   "display_name": ".venv",
   "language": "python",
   "name": "python3"
  },
  "language_info": {
   "codemirror_mode": {
    "name": "ipython",
    "version": 3
   },
   "file_extension": ".py",
   "mimetype": "text/x-python",
   "name": "python",
   "nbconvert_exporter": "python",
   "pygments_lexer": "ipython3",
   "version": "3.13.3"
  }
 },
 "nbformat": 4,
 "nbformat_minor": 5
}
