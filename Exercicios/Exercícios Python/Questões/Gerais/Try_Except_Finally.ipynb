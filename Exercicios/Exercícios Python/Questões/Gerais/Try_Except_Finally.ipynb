{
 "cells": [
  {
   "cell_type": "code",
   "execution_count": 2,
   "id": "c8d406e6",
   "metadata": {},
   "outputs": [
    {
     "name": "stdout",
     "output_type": "stream",
     "text": [
      "Não deu certo!\n",
      "Vou ser interpretado de qualquer forma!\n"
     ]
    }
   ],
   "source": [
    "#Bloco TRY, EXCEPT E FINALLY\n",
    "#Proposito principal é mitigar os erros de programs que podem vir a falhar.\n",
    " \n",
    "try:\n",
    "  1/0\n",
    "except:\n",
    "  print('Não deu certo!')\n",
    "finally:\n",
    "  print('Vou ser interpretado de qualquer forma!')"
   ]
  },
  {
   "cell_type": "code",
   "execution_count": 4,
   "id": "44567d29",
   "metadata": {},
   "outputs": [
    {
     "name": "stdout",
     "output_type": "stream",
     "text": [
      "\n",
      "Resultado: 1.0\n",
      "\n",
      "Obrigado pelo teste!\n"
     ]
    }
   ],
   "source": [
    "#Exercícios1: Peça ao usuário dois números e faça a divisão. Use try e except para tratar o erro de divisão por zero (ZeroDivisionError).\n",
    " \n",
    "try:\n",
    " \n",
    "  valor1 =  int(input('Digite o valor 1: '))\n",
    "  valor2 =  int(input('Digite o valor 2: '))\n",
    " \n",
    "  resul = lambda x, y: x/y\n",
    "  print(f'\\nResultado: {resul(valor1, valor2)}')\n",
    " \n",
    "except:\n",
    " \n",
    "  if valor2 == 0:\n",
    "    print('\\nDivisão por zero não é permitida!')\n",
    "  else:\n",
    "    print('\\nOcorreu um erro!')\n",
    " \n",
    "finally:\n",
    "    print('\\nObrigado pelo teste!')\n"
   ]
  },
  {
   "cell_type": "code",
   "execution_count": 5,
   "id": "f1e70eb2",
   "metadata": {},
   "outputs": [
    {
     "name": "stdout",
     "output_type": "stream",
     "text": [
      "\n",
      "Valor \"10\" foi convertido para inteiro!\n",
      "\n",
      "Obrigado pelo teste!\n"
     ]
    }
   ],
   "source": [
    "#Exercícios2: Conversão de string para número Peça ao usuário para digitar um número e converta com int(). Trate o erro caso ele digite algo não numérico (ValueError).\n",
    " \n",
    "try:\n",
    "  valorInt = str(input('Digite um valor númerico: '))\n",
    "  valorStr = int(valorInt)\n",
    "  print(f'\\nValor \"{valorInt}\" foi convertido para inteiro!')\n",
    " \n",
    "except:\n",
    "  print(f'\\nO valor digitado \"{valorInt}\" não é aceito!')\n",
    " \n",
    "finally:\n",
    "  print('\\nObrigado pelo teste!')\n"
   ]
  },
  {
   "cell_type": "code",
   "execution_count": null,
   "id": "d5cc8565",
   "metadata": {},
   "outputs": [
    {
     "name": "stdout",
     "output_type": "stream",
     "text": [
      "\n",
      "Arquivo não encotrado!\n"
     ]
    }
   ],
   "source": [
    "#Exercícios3: Tente abrir e ler um arquivo com open().Use try e except para tratar o caso de arquivo não encontrado (FileNotFoundError\n",
    " \n",
    "try:\n",
    "  with open(r\"C:\\Users\\OneDrive\\Documentos\\Teste Open.txt\", \"r\", encoding=\"utf-8\") as arquivo1:\n",
    "    conteudo = arquivo1.read()\n",
    "    print('\\nArquivo encontrado com sucesso:\\n')\n",
    "    print(conteudo)\n",
    "except:\n",
    "  print('\\nArquivo não encotrado!')"
   ]
  },
  {
   "cell_type": "code",
   "execution_count": null,
   "id": "321b31f3",
   "metadata": {},
   "outputs": [
    {
     "name": "stdout",
     "output_type": "stream",
     "text": [
      "\n",
      "O resultado é 1.0\n",
      "\n",
      "Obrigado pelo teste!1\n"
     ]
    }
   ],
   "source": [
    "#Exercícios4: Tente converter uma string em número e depois dividir. Trate duas exceções: ValueError e ZeroDivisionError no mesmo bloco.\n",
    " \n",
    "try:\n",
    " valorStr1 =  str(input('Digite o valor1: '))\n",
    " valorStr2 =  str(input('Digite o valor2: '))\n",
    " valorInt1 =  int(valorStr1)\n",
    " valorTnt2 =  int(valorStr2)\n",
    " resultdiv = valorInt1/valorTnt2\n",
    " print(f'\\nO resultado é {resultdiv}')\n",
    " \n",
    "except ValueError:\n",
    "  print('\\nO valor digitado é incorreto!')\n",
    " \n",
    "except ZeroDivisionError:\n",
    "  print('\\nNão é permitido divisão por zero!')\n",
    " \n",
    "finally:\n",
    "  print('\\nObrigado pelo teste!')\n",
    " \n",
    "#Obs: o ZeroDividon e  o valueError são excesões padrões no python, são explicitas e não exigem que você import nunbuma biblioteca\n",
    "#apenas chame a excessão especifíca pois é nativo da linguagem!\n"
   ]
  },
  {
   "cell_type": "code",
   "execution_count": 8,
   "id": "cb7c1ab9",
   "metadata": {},
   "outputs": [
    {
     "name": "stdout",
     "output_type": "stream",
     "text": [
      "\n",
      "O resultad é igual a 1.0\n",
      "\n",
      "Encerrando programa...\n"
     ]
    }
   ],
   "source": [
    "#Exercícios5: Crie um programa que: Pede dois números, Tenta dividir (try), Se tudo der certo, exibe “Divisão realizada com sucesso” (else), Sempre exibe “Encerrando programa...” no finally.\n",
    " \n",
    "try:\n",
    "  valor1 = int(input('Digite o valor1: '))\n",
    "  valor2 = int(input('Digite o valor2: '))\n",
    "  resl = valor1 / valor2\n",
    " \n",
    "except ValueError:\n",
    "  print('\\nValor digitado é incorreto!')\n",
    " \n",
    "except ZeroDivisionError:\n",
    "  print('\\nNão é permitido dividsão por zero!')\n",
    " \n",
    "else:\n",
    "  print(f'\\nO resultad é igual a {resl}')\n",
    " \n",
    "finally:\n",
    "  print('\\nEncerrando programa...')"
   ]
  }
 ],
 "metadata": {
  "kernelspec": {
   "display_name": ".venv",
   "language": "python",
   "name": "python3"
  },
  "language_info": {
   "codemirror_mode": {
    "name": "ipython",
    "version": 3
   },
   "file_extension": ".py",
   "mimetype": "text/x-python",
   "name": "python",
   "nbconvert_exporter": "python",
   "pygments_lexer": "ipython3",
   "version": "3.13.3"
  }
 },
 "nbformat": 4,
 "nbformat_minor": 5
}
