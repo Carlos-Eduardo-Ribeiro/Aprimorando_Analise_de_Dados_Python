{
 "cells": [
  {
   "cell_type": "code",
   "execution_count": 11,
   "id": "9ba91ba8",
   "metadata": {},
   "outputs": [],
   "source": [
    "import numpy as np1"
   ]
  },
  {
   "cell_type": "code",
   "execution_count": 16,
   "id": "179a9e03",
   "metadata": {},
   "outputs": [
    {
     "name": "stdout",
     "output_type": "stream",
     "text": [
      "2\n",
      "(4, 5)\n"
     ]
    },
    {
     "data": {
      "text/plain": [
       "array([[ 1,  2,  3,  4,  5],\n",
       "       [ 6,  7,  8,  9, 10],\n",
       "       [11, 12, 13, 14, 15],\n",
       "       [16, 17, 18, 19, 20]])"
      ]
     },
     "execution_count": 16,
     "metadata": {},
     "output_type": "execute_result"
    }
   ],
   "source": [
    "#Matriz fromada por um array de duas dimanesões.\n",
    "\n",
    "array = np1.array([\n",
    "    [1,2,3,4,5],\n",
    "    [6,7,8,9,10],\n",
    "    [11,12,13,14,15],\n",
    "    [16,17,18,19,20]\n",
    "])\n",
    "print(array.ndim)\n",
    "print(array.shape)\n",
    "array"
   ]
  },
  {
   "cell_type": "code",
   "execution_count": 17,
   "id": "a2f73009",
   "metadata": {},
   "outputs": [
    {
     "data": {
      "text/plain": [
       "array([[ 1,  2,  3,  4,  5],\n",
       "       [ 6,  7,  8,  9, 10]])"
      ]
     },
     "execution_count": 17,
     "metadata": {},
     "output_type": "execute_result"
    }
   ],
   "source": [
    "#Fatiamento das duas primeiras linhas\n",
    "#Quando você usa somente isso (:) eke subentende que você quer pegar o array (linha ou coluna) todo.\n",
    "\n",
    "fatiamentoTreslinhas = array[0:2,:]\n",
    "fatiamentoTreslinhas"
   ]
  },
  {
   "cell_type": "code",
   "execution_count": 18,
   "id": "bcb69ce7",
   "metadata": {},
   "outputs": [
    {
     "data": {
      "text/plain": [
       "array([[ 1,  2,  3],\n",
       "       [ 6,  7,  8],\n",
       "       [11, 12, 13],\n",
       "       [16, 17, 18]])"
      ]
     },
     "execution_count": 18,
     "metadata": {},
     "output_type": "execute_result"
    }
   ],
   "source": [
    "#Fatiando as três primeiras colunas\n",
    "#O ultimo sempre e exclusivo na indexasão, logo sempre sera de 0 a n-1\n",
    "\n",
    "fatiamentoTresColunas  = array[:, 0:3]\n",
    "fatiamentoTresColunas"
   ]
  },
  {
   "cell_type": "code",
   "execution_count": 21,
   "id": "90d79fa7",
   "metadata": {},
   "outputs": [
    {
     "data": {
      "text/plain": [
       "array([[ 7,  8,  9],\n",
       "       [12, 13, 14]])"
      ]
     },
     "execution_count": 21,
     "metadata": {},
     "output_type": "execute_result"
    }
   ],
   "source": [
    "#SubArray central\n",
    "\n",
    "subArrayCentral = array[1:3, 1:4]\n",
    "subArrayCentral"
   ]
  },
  {
   "cell_type": "code",
   "execution_count": null,
   "id": "f98ec1b0",
   "metadata": {},
   "outputs": [
    {
     "data": {
      "text/plain": [
       "array([[11, 11],\n",
       "       [22, 22]])"
      ]
     },
     "execution_count": 28,
     "metadata": {},
     "output_type": "execute_result"
    }
   ],
   "source": [
    "#S ubArray Lateral\n",
    "\n",
    "subArrayLateral = array[2:4, 3:5]\n",
    "subArrayLateral"
   ]
  },
  {
   "cell_type": "code",
   "execution_count": 31,
   "id": "42cf070c",
   "metadata": {},
   "outputs": [
    {
     "data": {
      "text/plain": [
       "array([[  1,   2,   3,   4,   5],\n",
       "       [  6,  99, 100,   9,  10],\n",
       "       [ 11, 101, 102,  11,  11],\n",
       "       [ 16,  17,  18,  22,  22]])"
      ]
     },
     "execution_count": 31,
     "metadata": {},
     "output_type": "execute_result"
    }
   ],
   "source": [
    "#Modificando um sub Array de nDimensões\n",
    "#Sempre print para ter uma boa visuaização do problema\n",
    "\n",
    "array[1:3, 1:3] = [[99,100], [101,102]]\n",
    "array"
   ]
  },
  {
   "cell_type": "code",
   "execution_count": null,
   "id": "bbe4fa53",
   "metadata": {},
   "outputs": [],
   "source": []
  }
 ],
 "metadata": {
  "kernelspec": {
   "display_name": ".venv",
   "language": "python",
   "name": "python3"
  },
  "language_info": {
   "codemirror_mode": {
    "name": "ipython",
    "version": 3
   },
   "file_extension": ".py",
   "mimetype": "text/x-python",
   "name": "python",
   "nbconvert_exporter": "python",
   "pygments_lexer": "ipython3",
   "version": "3.13.3"
  }
 },
 "nbformat": 4,
 "nbformat_minor": 5
}
