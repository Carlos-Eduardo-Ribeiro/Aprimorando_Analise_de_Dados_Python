{
 "cells": [
  {
   "cell_type": "code",
   "execution_count": 1,
   "id": "86700226",
   "metadata": {},
   "outputs": [],
   "source": [
    "import numpy as np"
   ]
  },
  {
   "cell_type": "code",
   "execution_count": null,
   "id": "b0c77d0b",
   "metadata": {},
   "outputs": [
    {
     "name": "stdout",
     "output_type": "stream",
     "text": [
      "1\n",
      "(5,)\n",
      "[1 2 3 4 5]\n"
     ]
    }
   ],
   "source": [
    "#Array de uma deimensão\n",
    "\n",
    "array_1d = np.array([1,2,3,4,5])\n",
    "print(array_1d.ndim)\n",
    "print(array_1d.shape)\n",
    "print(array_1d)\n",
    "#muito usados com series temporais"
   ]
  },
  {
   "cell_type": "code",
   "execution_count": 7,
   "id": "607dac14",
   "metadata": {},
   "outputs": [
    {
     "name": "stdout",
     "output_type": "stream",
     "text": [
      "2\n",
      "(2, 3)\n",
      "[[1 2 3]\n",
      " [4 5 6]]\n"
     ]
    }
   ],
   "source": [
    "#Array de duas dimanesões\n",
    "\n",
    "array_2d = np.array([[1,2,3], [4,5,6]])\n",
    "print(array_2d.ndim)\n",
    "print(array_2d.shape)\n",
    "print(array_2d)\n",
    "\n",
    "#muito usado em matrizes, imagens e tabelas de dados"
   ]
  },
  {
   "cell_type": "code",
   "execution_count": null,
   "id": "2eae596d",
   "metadata": {},
   "outputs": [
    {
     "name": "stdout",
     "output_type": "stream",
     "text": [
      "3\n",
      "(1, 4, 3)\n"
     ]
    },
    {
     "data": {
      "text/plain": [
       "array([[[ 1,  2,  3],\n",
       "        [ 4,  5,  6],\n",
       "        [ 7,  8,  9],\n",
       "        [10, 11, 12]]])"
      ]
     },
     "execution_count": 11,
     "metadata": {},
     "output_type": "execute_result"
    }
   ],
   "source": [
    "#Array de Trêsa dimensões\n",
    "\n",
    "array_3d = np.array([[[1,2,3], [4,5,6], [7,8,9], [10,11,12]]])\n",
    "print(array_3d.ndim)\n",
    "print(array_3d.shape)\n",
    "array_3d\n",
    "#é usado em imagens em cores com cada matriz respensentado uma canal de cor"
   ]
  },
  {
   "cell_type": "code",
   "execution_count": 12,
   "id": "869c335d",
   "metadata": {},
   "outputs": [
    {
     "name": "stdout",
     "output_type": "stream",
     "text": [
      "4\n",
      "(1, 1, 4, 3)\n"
     ]
    },
    {
     "data": {
      "text/plain": [
       "array([[[[ 1,  2,  3],\n",
       "         [ 4,  5,  6],\n",
       "         [ 7,  8,  9],\n",
       "         [10, 11, 12]]]])"
      ]
     },
     "execution_count": 12,
     "metadata": {},
     "output_type": "execute_result"
    }
   ],
   "source": [
    "#Array de Trêsa dimensões\n",
    "\n",
    "array_4d = np.array([[[[1,2,3], [4,5,6], [7,8,9], [10,11,12]]]])\n",
    "print(array_4d.ndim)\n",
    "print(array_4d.shape)\n",
    "array_4d\n",
    "#é usado em imagens em cores com cada matriz respensentado uma canal de cor"
   ]
  },
  {
   "cell_type": "code",
   "execution_count": null,
   "id": "0259efe6",
   "metadata": {},
   "outputs": [],
   "source": []
  }
 ],
 "metadata": {
  "kernelspec": {
   "display_name": ".venv",
   "language": "python",
   "name": "python3"
  },
  "language_info": {
   "codemirror_mode": {
    "name": "ipython",
    "version": 3
   },
   "file_extension": ".py",
   "mimetype": "text/x-python",
   "name": "python",
   "nbconvert_exporter": "python",
   "pygments_lexer": "ipython3",
   "version": "3.13.3"
  }
 },
 "nbformat": 4,
 "nbformat_minor": 5
}
